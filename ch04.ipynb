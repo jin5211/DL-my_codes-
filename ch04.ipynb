{
 "cells": [
  {
   "cell_type": "code",
   "execution_count": 406,
   "metadata": {},
   "outputs": [],
   "source": [
    "import numpy as np"
   ]
  },
  {
   "cell_type": "markdown",
   "metadata": {},
   "source": [
    "### 損失関数\n",
    "1. 二乗和誤差\n",
    "2. 交差エントロピー"
   ]
  },
  {
   "cell_type": "code",
   "execution_count": 407,
   "metadata": {},
   "outputs": [],
   "source": [
    "# 二乗和誤差\n",
    "def sum_squared_error(y: np.ndarray, t: np.ndarray):\n",
    "\treturn 0.5 * np.sum((y - t)**2)"
   ]
  },
  {
   "cell_type": "code",
   "execution_count": 408,
   "metadata": {},
   "outputs": [
    {
     "data": {
      "text/plain": [
       "0.09750000000000003"
      ]
     },
     "execution_count": 408,
     "metadata": {},
     "output_type": "execute_result"
    }
   ],
   "source": [
    "# 「2」を正解とする\n",
    "t = np.array([0, 0, 1, 0, 0, 0, 0, 0, 0, 0])\n",
    "\n",
    "# 例 1:「2」の確率が最も高い場合(0.6)\n",
    "y = np.array([0.1, 0.05, 0.6, 0.0, 0.05, 0.1, 0.0, 0.1, 0.0, 0.0])\n",
    "\n",
    "sum_squared_error(y, t)"
   ]
  },
  {
   "cell_type": "code",
   "execution_count": 409,
   "metadata": {},
   "outputs": [
    {
     "data": {
      "text/plain": [
       "0.5975"
      ]
     },
     "execution_count": 409,
     "metadata": {},
     "output_type": "execute_result"
    }
   ],
   "source": [
    "# 例 2:「7」の確率が最も高い場合(0.6)\n",
    "y = [0.1, 0.05, 0.1, 0.0, 0.05, 0.1, 0.0, 0.6, 0.0, 0.0]\n",
    "\n",
    "sum_squared_error(y, t)"
   ]
  },
  {
   "cell_type": "code",
   "execution_count": 410,
   "metadata": {},
   "outputs": [],
   "source": [
    "# 交差エントロピー誤差\n",
    "def cross_entropy_error(y: np.ndarray, t: np.ndarray):\n",
    "\tdelta = 1e-7\n",
    "\treturn -np.sum(t*np.log(y+delta))"
   ]
  },
  {
   "cell_type": "code",
   "execution_count": 411,
   "metadata": {},
   "outputs": [
    {
     "data": {
      "text/plain": [
       "0.510825457099338"
      ]
     },
     "execution_count": 411,
     "metadata": {},
     "output_type": "execute_result"
    }
   ],
   "source": [
    "# 正解ラベルが2で出力が2の場合\n",
    "t = np.array([0, 0, 1, 0, 0, 0, 0, 0, 0, 0])\n",
    "y = np.array([0.1, 0.05, 0.6, 0.0, 0.05, 0.1, 0.0, 0.1, 0.0, 0.0])\n",
    "\n",
    "cross_entropy_error(y=y, t=t)"
   ]
  },
  {
   "cell_type": "code",
   "execution_count": 412,
   "metadata": {},
   "outputs": [
    {
     "data": {
      "text/plain": [
       "2.302584092994546"
      ]
     },
     "execution_count": 412,
     "metadata": {},
     "output_type": "execute_result"
    }
   ],
   "source": [
    "# 正解ラベルが2で出力が7の場合\n",
    "y = np.array([0.1, 0.05, 0.1, 0.0, 0.05, 0.1, 0.0, 0.6, 0.0, 0.0])\n",
    "cross_entropy_error(y=y, t=t)"
   ]
  },
  {
   "cell_type": "markdown",
   "metadata": {},
   "source": [
    "### ミニバッチ学習"
   ]
  },
  {
   "cell_type": "code",
   "execution_count": 413,
   "metadata": {},
   "outputs": [
    {
     "name": "stdout",
     "output_type": "stream",
     "text": [
      "(60000, 784)\n",
      "(60000, 10)\n"
     ]
    }
   ],
   "source": [
    "import sys, os\n",
    "sys.path.append(os.pardir)\n",
    "from dataset.mnist import load_mnist\n",
    "\n",
    "(x_train, t_train), (x_test, t_test) = \\\n",
    "\tload_mnist(normalize=True, one_hot_label=True)\n",
    "\n",
    "print(x_train.shape)\n",
    "print(t_train.shape)"
   ]
  },
  {
   "cell_type": "code",
   "execution_count": 414,
   "metadata": {},
   "outputs": [],
   "source": [
    "train_size = x_train.shape[0]\n",
    "batch_size = 10\n",
    "batch_mask = np.random.choice(train_size, batch_size)\n",
    "x_batch = x_train[batch_mask]\n",
    "t_batch = t_train[batch_mask]"
   ]
  },
  {
   "cell_type": "code",
   "execution_count": 415,
   "metadata": {},
   "outputs": [
    {
     "data": {
      "text/plain": [
       "784"
      ]
     },
     "execution_count": 415,
     "metadata": {},
     "output_type": "execute_result"
    }
   ],
   "source": [
    "x_batch[0].size"
   ]
  },
  {
   "cell_type": "code",
   "execution_count": 416,
   "metadata": {},
   "outputs": [
    {
     "data": {
      "text/plain": [
       "1"
      ]
     },
     "execution_count": 416,
     "metadata": {},
     "output_type": "execute_result"
    }
   ],
   "source": [
    "t_batch[0].ndim"
   ]
  },
  {
   "cell_type": "code",
   "execution_count": 417,
   "metadata": {},
   "outputs": [],
   "source": [
    "# t -> one-hot 表現の場合\n",
    "def cross_entropy_error(y, t):\n",
    "\tif y.ndim == 1:\n",
    "\t\tt = t.reshape(1, t.size)\n",
    "\t\ty = y.reshape(1, y.size)\n",
    "\n",
    "\tbatch_size = y.shape[0]\n",
    "\treturn -np.sum(t * np.log(y + 1e-7)) / batch_size"
   ]
  },
  {
   "cell_type": "code",
   "execution_count": 418,
   "metadata": {},
   "outputs": [],
   "source": [
    "# t -> one-hot 表現じゃない場合\n",
    "# def cross_entropy_error(y, t):\n",
    "# \tif y.ndim == 1:\n",
    "# \t\tt = t.reshape(1, t.size)\n",
    "# \t\ty = y.reshape(1, y.size)\n",
    "\n",
    "# \tbatch_size = y.shape[0]\n",
    "# \treturn -np.sum(np.log(y[np.arange(batch_size), t] + 1e-7)) / batch_size"
   ]
  },
  {
   "cell_type": "code",
   "execution_count": 419,
   "metadata": {},
   "outputs": [],
   "source": [
    "# 活性化関数\n",
    "\n",
    "# シグモイド関数\n",
    "def sigmoid(x):\n",
    "\treturn 1/(1+np.exp(-x))\n",
    "\n",
    "# ステップ関数\n",
    "def step_function(x):\n",
    "\treturn np.array(x>0, dtype=np.int)\n",
    "\n",
    "# ReLU関数\n",
    "def relu(x):\n",
    "\treturn np.maximum(0, x)\n",
    "\n",
    "\n",
    "# 出力層の活性化関数\n",
    "# 恒等関数 -> 回帰問題\n",
    "\n",
    "# ソフトマックス関数\n",
    "def softmax(a):\n",
    "\tc = np.max(a)\n",
    "\texp_a = np.exp(a - c) # オーバーフロー対策\n",
    "\tsum_exp_a = np.sum(exp_a)\n",
    "\ty = exp_a/sum_exp_a\n",
    "\treturn y"
   ]
  },
  {
   "cell_type": "code",
   "execution_count": 420,
   "metadata": {},
   "outputs": [],
   "source": [
    "def get_data():\n",
    "\t(x_train, t_train), (x_test, t_test) = \\\n",
    "\t\tload_mnist(normalize=True, flatten=True, one_hot_label=True)\n",
    "\treturn x_test, t_test\n",
    "\n",
    "import pickle\n",
    "def init_network():\n",
    "\twith open('sample_weight.pkl', 'rb') as f:\n",
    "\t\tnetwork = pickle.load(f)\n",
    "\treturn network\n",
    "\n",
    "def predict(network, x):\n",
    "\tW1, W2, W3 = network['W1'], network['W2'], network['W3']\n",
    "\tb1, b2, b3 = network['b1'], network['b2'], network['b3']\n",
    "\n",
    "\ta1 = np.dot(x, W1) + b1\n",
    "\tz1 = sigmoid(a1)\n",
    "\ta2 = np.dot(z1, W2) + b2\n",
    "\tz2 = sigmoid(a2)\n",
    "\ta3 = np.dot(z2, W3) + b3\n",
    "\ty = softmax(a3)\n",
    "\n",
    "\treturn y"
   ]
  },
  {
   "cell_type": "code",
   "execution_count": 421,
   "metadata": {},
   "outputs": [],
   "source": [
    "# Numerical differentiation(数値微分)\n",
    "def numerical_diff(f, x):\n",
    "\th = 1e-4 # 0.0001\n",
    "\treturn (f(x+h) - f(x-h))/(2*h)"
   ]
  },
  {
   "cell_type": "code",
   "execution_count": 422,
   "metadata": {},
   "outputs": [],
   "source": [
    "# 数値微分の例\n",
    "\n",
    "def function_1(x):\n",
    "\treturn 0.01*(x**2) + 0.1*x"
   ]
  },
  {
   "cell_type": "code",
   "execution_count": 423,
   "metadata": {},
   "outputs": [
    {
     "data": {
      "image/png": "[encoded data removed]",
      "text/plain": [
       "<Figure size 640x480 with 1 Axes>"
      ]
     },
     "metadata": {},
     "output_type": "display_data"
    }
   ],
   "source": [
    "import matplotlib.pyplot as plt\n",
    "\n",
    "x = np.arange(0.0, 20.0, 0.1)\n",
    "y = function_1(x)\n",
    "plt.xlabel('x')\n",
    "plt.ylabel('f(x)')\n",
    "plt.plot(x, y)\n",
    "plt.show()"
   ]
  },
  {
   "cell_type": "code",
   "execution_count": 424,
   "metadata": {},
   "outputs": [
    {
     "data": {
      "text/plain": [
       "0.1999999999990898"
      ]
     },
     "execution_count": 424,
     "metadata": {},
     "output_type": "execute_result"
    }
   ],
   "source": [
    "# 数値微分@x=5\n",
    "numerical_diff(function_1, 5)"
   ]
  },
  {
   "cell_type": "code",
   "execution_count": 425,
   "metadata": {},
   "outputs": [
    {
     "data": {
      "text/plain": [
       "0.2"
      ]
     },
     "execution_count": 425,
     "metadata": {},
     "output_type": "execute_result"
    }
   ],
   "source": [
    "# 解析微分@x=5\n",
    "0.02*5 + 0.1"
   ]
  },
  {
   "cell_type": "code",
   "execution_count": 426,
   "metadata": {},
   "outputs": [
    {
     "data": {
      "text/plain": [
       "0.2999999999986347"
      ]
     },
     "execution_count": 426,
     "metadata": {},
     "output_type": "execute_result"
    }
   ],
   "source": [
    "# 数値微分@x=10\n",
    "numerical_diff(function_1, 10)"
   ]
  },
  {
   "cell_type": "code",
   "execution_count": 427,
   "metadata": {},
   "outputs": [
    {
     "data": {
      "text/plain": [
       "0.30000000000000004"
      ]
     },
     "execution_count": 427,
     "metadata": {},
     "output_type": "execute_result"
    }
   ],
   "source": [
    "# 解析微分@x=10\n",
    "0.02*10 + 0.1"
   ]
  },
  {
   "cell_type": "code",
   "execution_count": 428,
   "metadata": {},
   "outputs": [],
   "source": [
    "# y = ax + b\n",
    "x1 = 5\n",
    "y1 = function_1(x1)\n",
    "# y = ax + b\n",
    "a1 = 0.02*5 + 0.1\n",
    "b1 = y1 - (a1*x1)\n",
    "\n",
    "def tangent_1(x):\n",
    "\ty = 0.2*x - 0.25\n",
    "\treturn y"
   ]
  },
  {
   "cell_type": "code",
   "execution_count": 429,
   "metadata": {},
   "outputs": [
    {
     "data": {
      "image/png": "[encoded data removed]",
      "text/plain": [
       "<Figure size 640x480 with 1 Axes>"
      ]
     },
     "metadata": {},
     "output_type": "display_data"
    }
   ],
   "source": [
    "x = np.arange(0.0, 20.1, 0.1)\n",
    "y = function_1(x)\n",
    "y1 = tangent_1(x)\n",
    "plt.xlabel('x')\n",
    "plt.ylabel('f(x)')\n",
    "plt.plot(x, y)\n",
    "plt.plot(x, y1)\n",
    "plt.vlines(x=5, ymin=-1, ymax=function_1(5), linestyles='dotted')\n",
    "plt.hlines(y=function_1(5), xmin=0, xmax=5, linestyles='dotted')\n",
    "plt.plot(5, function_1(5), 'ro')\n",
    "plt.xlim(0, 20)\n",
    "plt.ylim(-1, 6)\n",
    "plt.show()"
   ]
  },
  {
   "cell_type": "code",
   "execution_count": 430,
   "metadata": {},
   "outputs": [
    {
     "name": "stdout",
     "output_type": "stream",
     "text": [
      "0.30000000000000004\n",
      "-1.0000000000000004\n"
     ]
    }
   ],
   "source": [
    "# y = ax + b\n",
    "x2 = 10\n",
    "y2 = function_1(x2)\n",
    "# y = ax + b\n",
    "a2 = 0.02*x2 + 0.1\n",
    "b2 = y2 - (a2*x2)\n",
    "\n",
    "print(a2)\n",
    "print(b2)"
   ]
  },
  {
   "cell_type": "code",
   "execution_count": 431,
   "metadata": {},
   "outputs": [],
   "source": [
    "def tangent_2(x):\n",
    "\ty = 0.3*x - 1\n",
    "\treturn y"
   ]
  },
  {
   "cell_type": "code",
   "execution_count": 432,
   "metadata": {},
   "outputs": [
    {
     "data": {
      "image/png": "[encoded data removed]",
      "text/plain": [
       "<Figure size 640x480 with 1 Axes>"
      ]
     },
     "metadata": {},
     "output_type": "display_data"
    }
   ],
   "source": [
    "x = np.arange(0.0, 20.1, 0.1)\n",
    "y = function_1(x)\n",
    "y2 = tangent_2(x)\n",
    "plt.xlabel('x')\n",
    "plt.ylabel('f(x)')\n",
    "plt.plot(x, y)\n",
    "plt.plot(x, y2)\n",
    "plt.vlines(x=10, ymin=-1, ymax=function_1(10), linestyles='dotted')\n",
    "plt.hlines(y=function_1(10), xmin=0, xmax=10, linestyles='dotted')\n",
    "plt.plot(10, function_1(10), 'ro')\n",
    "plt.xlim(0, 20)\n",
    "plt.ylim(-1, 6)\n",
    "plt.show()"
   ]
  },
  {
   "cell_type": "markdown",
   "metadata": {},
   "source": [
    "### 偏微分"
   ]
  },
  {
   "cell_type": "code",
   "execution_count": 433,
   "metadata": {},
   "outputs": [],
   "source": [
    "def function_2(x):\n",
    "\treturn np.sum(x**2)\n",
    "\t# return x[0]**2 + x[1]**2"
   ]
  },
  {
   "cell_type": "code",
   "execution_count": 434,
   "metadata": {},
   "outputs": [
    {
     "data": {
      "text/plain": [
       "6.00000000000378"
      ]
     },
     "execution_count": 434,
     "metadata": {},
     "output_type": "execute_result"
    }
   ],
   "source": [
    "def function_tmp1(x0):\n",
    "\treturn x0**2 + 4**2\n",
    "\n",
    "numerical_diff(function_tmp1, 3)"
   ]
  },
  {
   "cell_type": "code",
   "execution_count": 435,
   "metadata": {},
   "outputs": [
    {
     "data": {
      "text/plain": [
       "7.999999999999119"
      ]
     },
     "execution_count": 435,
     "metadata": {},
     "output_type": "execute_result"
    }
   ],
   "source": [
    "def function_tmp2(x1):\n",
    "\treturn 3**2 + x1**2\n",
    "\n",
    "numerical_diff(function_tmp2, 4)"
   ]
  },
  {
   "cell_type": "code",
   "execution_count": 436,
   "metadata": {},
   "outputs": [],
   "source": [
    "# 勾配(gradient)\n",
    "def numerical_gradient(f, x):\n",
    "\th = 1e-4 # 0.0001\n",
    "\tgrad = np.zeros_like(x)\n",
    "\n",
    "\tfor idx in range(x.size):\n",
    "\t\ttmp_val = x[idx]\n",
    "\n",
    "\t\t# f(x+h)の計算\n",
    "\t\tx[idx] = tmp_val + h\n",
    "\t\tfxh1 = f(x)\n",
    "\n",
    "\t\t# f(x-h)の計算\n",
    "\t\tx[idx] = tmp_val - h\n",
    "\t\tfxh2 = f(x)\n",
    "\n",
    "\t\tgrad[idx] = (fxh1 - fxh2)/(2*h)\n",
    "\n",
    "\t\t# 値を元に戻す\n",
    "\t\tx[idx] = tmp_val\n",
    "\n",
    "\treturn grad"
   ]
  },
  {
   "cell_type": "code",
   "execution_count": 437,
   "metadata": {},
   "outputs": [
    {
     "data": {
      "text/plain": [
       "array([6., 8.])"
      ]
     },
     "execution_count": 437,
     "metadata": {},
     "output_type": "execute_result"
    }
   ],
   "source": [
    "numerical_gradient(function_2, np.array([3.0, 4.0]))"
   ]
  },
  {
   "cell_type": "code",
   "execution_count": 438,
   "metadata": {},
   "outputs": [
    {
     "data": {
      "text/plain": [
       "array([0., 4.])"
      ]
     },
     "execution_count": 438,
     "metadata": {},
     "output_type": "execute_result"
    }
   ],
   "source": [
    "numerical_gradient(function_2, np.array([0.0, 2.0]))"
   ]
  },
  {
   "cell_type": "code",
   "execution_count": 439,
   "metadata": {},
   "outputs": [
    {
     "data": {
      "text/plain": [
       "array([6., 0.])"
      ]
     },
     "execution_count": 439,
     "metadata": {},
     "output_type": "execute_result"
    }
   ],
   "source": [
    "numerical_gradient(function_2, np.array([3.0, 0.0]))"
   ]
  },
  {
   "cell_type": "code",
   "execution_count": 440,
   "metadata": {},
   "outputs": [],
   "source": [
    "def gradient_descent(f, init_x, lr=0.01, step_num=100):\n",
    "\tx = init_x\n",
    "\n",
    "\tfor i in range(step_num):\n",
    "\t\tgrad = numerical_gradient(f, x)\n",
    "\t\tx -= lr * grad\n",
    "\n",
    "\treturn x"
   ]
  },
  {
   "cell_type": "code",
   "execution_count": 441,
   "metadata": {},
   "outputs": [
    {
     "data": {
      "text/plain": [
       "array([-6.11110793e-10,  8.14814391e-10])"
      ]
     },
     "execution_count": 441,
     "metadata": {},
     "output_type": "execute_result"
    }
   ],
   "source": [
    "init_x = np.array([-3.0, 4.0])\n",
    "gradient_descent(function_2, init_x, lr=0.1, step_num=100)"
   ]
  },
  {
   "cell_type": "code",
   "execution_count": 442,
   "metadata": {},
   "outputs": [
    {
     "data": {
      "text/plain": [
       "array([-2.58983747e+13, -1.29524862e+12])"
      ]
     },
     "execution_count": 442,
     "metadata": {},
     "output_type": "execute_result"
    }
   ],
   "source": [
    "init_x = np.array([-3.0, 4.0])\n",
    "gradient_descent(function_2, init_x, lr=10.0, step_num=100)"
   ]
  },
  {
   "cell_type": "code",
   "execution_count": 443,
   "metadata": {},
   "outputs": [
    {
     "data": {
      "text/plain": [
       "array([-2.99999994,  3.99999992])"
      ]
     },
     "execution_count": 443,
     "metadata": {},
     "output_type": "execute_result"
    }
   ],
   "source": [
    "init_x = np.array([-3.0, 4.0])\n",
    "gradient_descent(function_2, init_x, lr=1e-10, step_num=100)"
   ]
  },
  {
   "cell_type": "code",
   "execution_count": 444,
   "metadata": {},
   "outputs": [],
   "source": [
    "import sys, os\n",
    "sys.path.append(os.pardir)\n",
    "from common.functions import softmax, cross_entropy_error\n",
    "from common.gradient import numerical_gradient\n",
    "\n",
    "class simpleNet:\n",
    "\tdef __init__(self):\n",
    "\t\tself.W = np.random.randn(2, 3) # ガウス分布で初期\n",
    "\n",
    "\tdef predict(self, x):\n",
    "\t\treturn np.dot(x, self.W)\n",
    "\n",
    "\tdef loss(self, x, t):\n",
    "\t\tz = self.predict(x)\n",
    "\t\ty = softmax(z)\n",
    "\t\tloss = cross_entropy_error(y, t)\n",
    "\n",
    "\t\treturn loss"
   ]
  },
  {
   "cell_type": "code",
   "execution_count": 445,
   "metadata": {},
   "outputs": [
    {
     "name": "stdout",
     "output_type": "stream",
     "text": [
      "[[-0.81059755  0.54787604 -1.35249525]\n",
      " [-0.22127276 -3.31274931  0.78625248]]\n"
     ]
    }
   ],
   "source": [
    "net = simpleNet()\n",
    "print(net.W) # 重みパラメータ"
   ]
  },
  {
   "cell_type": "code",
   "execution_count": 446,
   "metadata": {},
   "outputs": [
    {
     "name": "stdout",
     "output_type": "stream",
     "text": [
      "[-0.68550401 -2.65274875 -0.10386992]\n"
     ]
    }
   ],
   "source": [
    "x = np.array([0.6, 0.9])\n",
    "p = net.predict(x)\n",
    "print(p)"
   ]
  },
  {
   "cell_type": "code",
   "execution_count": 447,
   "metadata": {},
   "outputs": [
    {
     "data": {
      "text/plain": [
       "2"
      ]
     },
     "execution_count": 447,
     "metadata": {},
     "output_type": "execute_result"
    }
   ],
   "source": [
    "np.argmax(p) # 最大値のインデックス"
   ]
  },
  {
   "cell_type": "code",
   "execution_count": 448,
   "metadata": {},
   "outputs": [
    {
     "data": {
      "text/plain": [
       "0.4929588673258721"
      ]
     },
     "execution_count": 448,
     "metadata": {},
     "output_type": "execute_result"
    }
   ],
   "source": [
    "t = np.array([0, 0, 1]) #正解ラベル\n",
    "net.loss(x, t)"
   ]
  },
  {
   "cell_type": "code",
   "execution_count": 458,
   "metadata": {},
   "outputs": [
    {
     "name": "stdout",
     "output_type": "stream",
     "text": [
      "[[ 0.20487005  0.02864764 -0.23351769]\n",
      " [ 0.30730508  0.04297146 -0.35027654]]\n"
     ]
    }
   ],
   "source": [
    "def f(W):\n",
    "\treturn net.loss(x, t)\n",
    "\n",
    "dW = numerical_gradient(f, net.W)\n",
    "print(dW)"
   ]
  },
  {
   "cell_type": "code",
   "execution_count": 470,
   "metadata": {},
   "outputs": [],
   "source": [
    "import sys, os\n",
    "sys.path.append(os.pardir)\n",
    "from common.functions import *\n",
    "from common.gradient import numerical_gradient\n",
    "\n",
    "class TwoLayerNet:\n",
    "\n",
    "\tdef __init__(self, input_size, hidden_size, output_size,\\\n",
    "\t\t\t\t\t\t\tweight_init_std=0.01):\n",
    "\t\t# 重みの初期化\n",
    "\t\tself.params = {}\n",
    "\t\tself.params['W1'] = weight_init_std * \\\n",
    "\t\t\t\t\t\t\tnp.random.randn(input_size, hidden_size)\n",
    "\t\tself.params['W2'] = weight_init_std * \\\n",
    "\t\t\t\t\t\t\tnp.random.randn(hidden_size, output_size)\n",
    "\t\tself.params['b1'] = weight_init_std * \\\n",
    "\t\t\t\t\t\t\tnp.random.randn(hidden_size)\n",
    "\t\tself.params['b2'] = weight_init_std * \\\n",
    "\t\t\t\t\t\t\tnp.random.randn(output_size)\n",
    "\n",
    "\tdef predict(self, x):\n",
    "\t\tW1, W2 = self.params['W1'], self.params['W2']\n",
    "\t\tb1, b2 = self.params['b1'], self.params['b2']\n",
    "\n",
    "\t\ta1 = np.dot(x, W1)\n",
    "\t\tz1 = sigmoid(a1)\n",
    "\t\ta2 = np.dot(z1, W2)\n",
    "\t\ty = softmax(a2)\n",
    "\n",
    "\t\treturn y\n",
    "\n",
    "\t# x:入力データ, t:教師データ\n",
    "\tdef loss(self, x, t):\n",
    "\t\ty = self.predict(x)\n",
    "\n",
    "\t\treturn cross_entropy_error(y, t)\n",
    "\n",
    "\tdef accuracy(self, x, t):\n",
    "\t\ty = self.predict(x)\n",
    "\t\ty = np.argmax(y, axis=1)\n",
    "\t\tt = np.argmax(t, axis=1)\n",
    "\n",
    "\t\taccuracy = np.sum(y == t) / float(x.shape[0])\n",
    "\t\treturn accuracy\n",
    "\n",
    "\t# x:入力データ, t:教師データ\n",
    "\tdef numerical_gradient(self, x, t):\n",
    "\t\tloss_W = lambda W: self.loss(x, t)\n",
    "\n",
    "\t\tgrad = {}\n",
    "\t\tgrad['W1'] = numerical_gradient(loss_W, self.params['W1'])\n",
    "\t\tgrad['W2'] = numerical_gradient(loss_W, self.params['W2'])\n",
    "\t\tgrad['b1'] = numerical_gradient(loss_W, self.params['b1'])\n",
    "\t\tgrad['b2'] = numerical_gradient(loss_W, self.params['b2'])\n",
    "\n",
    "\t\treturn grad"
   ]
  },
  {
   "cell_type": "code",
   "execution_count": 471,
   "metadata": {},
   "outputs": [
    {
     "name": "stdout",
     "output_type": "stream",
     "text": [
      "(784, 100)\n",
      "(100, 10)\n",
      "(100,)\n",
      "(10,)\n"
     ]
    }
   ],
   "source": [
    "net = TwoLayerNet(input_size=784, hidden_size=100, output_size=10)\n",
    "print(net.params['W1'].shape)\n",
    "print(net.params['W2'].shape)\n",
    "print(net.params['b1'].shape)\n",
    "print(net.params['b2'].shape)"
   ]
  },
  {
   "cell_type": "code",
   "execution_count": 483,
   "metadata": {},
   "outputs": [
    {
     "name": "stdout",
     "output_type": "stream",
     "text": [
      "[8 0 0 8 0 8 0 0 0 8 8 0 0 0 8 0 8 0 0 0 0 0 0 8 8 8 0 8 8 0 0 0 8 8 0 0 0\n",
      " 8 0 8 8 0 0 8 0 8 8 0 0 8 8 8 8 8 8 8 8 8 8 8 8 0 0 0 8 8 8 0 8 8 0 8 8 8\n",
      " 8 8 8 8 0 0 8 8 0 8 8 8 0 0 8 0 8 0 8 0 0 8 8 0 8 8]\n"
     ]
    }
   ],
   "source": [
    "x = np.random.randn(100, 784) # ダミーの入力データ(100枚分)\n",
    "y = net.predict(x)\n",
    "print(np.argmax(y, axis=1))"
   ]
  },
  {
   "cell_type": "code",
   "execution_count": 486,
   "metadata": {},
   "outputs": [
    {
     "name": "stdout",
     "output_type": "stream",
     "text": [
      "(784, 100)\n",
      "(100,)\n",
      "(100, 10)\n",
      "(10,)\n"
     ]
    }
   ],
   "source": [
    "x = np.random.randn(100, 784) # ダミーの入力データ(100枚分)\n",
    "t = np.random.randn(100, 10) # ダミーの入力データ(100枚分)\n",
    "\n",
    "grad = net.numerical_gradient(x, t)\n",
    "\n",
    "print(grad['W1'].shape)\n",
    "print(grad['b1'].shape)\n",
    "print(grad['W2'].shape)\n",
    "print(grad['b2'].shape)"
   ]
  },
  {
   "cell_type": "markdown",
   "metadata": {},
   "source": [
    "### ミニバッチ学習の実装"
   ]
  },
  {
   "cell_type": "code",
   "execution_count": 489,
   "metadata": {},
   "outputs": [
    {
     "ename": "SyntaxError",
     "evalue": "invalid syntax (4163203669.py, line 2)",
     "output_type": "error",
     "traceback": [
      "\u001b[0;36m  Cell \u001b[0;32mIn[489], line 2\u001b[0;36m\u001b[0m\n\u001b[0;31m    from deep-learning-from-scratch.ch04.two_layer_net.py import TwoLayerNet\u001b[0m\n\u001b[0m             ^\u001b[0m\n\u001b[0;31mSyntaxError\u001b[0m\u001b[0;31m:\u001b[0m invalid syntax\n"
     ]
    }
   ],
   "source": [
    "from dataset.mnist import load_mnist\n",
    "from common.two_layer_net import TwoLayerNet\n",
    "\n",
    "(x_train, t_train), (x_test, t_test) = \\\n",
    "\tload_mnist(normalize=True, flatten=True, one_hot_label=True)\n",
    "\n",
    "train_loss_list = []\n",
    "\n",
    "# ハイパーパラメータ\n",
    "iter_num = 1000"
   ]
  },
  {
   "cell_type": "code",
   "execution_count": null,
   "metadata": {},
   "outputs": [],
   "source": []
  },
  {
   "cell_type": "code",
   "execution_count": null,
   "metadata": {},
   "outputs": [],
   "source": []
  }
 ],
 "metadata": {
  "kernelspec": {
   "display_name": "Python 3",
   "language": "python",
   "name": "python3"
  },
  "language_info": {
   "codemirror_mode": {
    "name": "ipython",
    "version": 3
   },
   "file_extension": ".py",
   "mimetype": "text/x-python",
   "name": "python",
   "nbconvert_exporter": "python",
   "pygments_lexer": "ipython3",
   "version": "3.9.19"
  }
 },
 "nbformat": 4,
 "nbformat_minor": 2
}
