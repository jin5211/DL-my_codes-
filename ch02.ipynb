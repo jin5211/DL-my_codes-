{
 "cells": [
  {
   "cell_type": "markdown",
   "metadata": {},
   "source": [
    "### AND gate"
   ]
  },
  {
   "cell_type": "code",
   "execution_count": 1,
   "metadata": {},
   "outputs": [],
   "source": [
    "def AND(x1, x2):\n",
    "\tw1, w2, b = 0.5, 0.5, -0.7\n",
    "\ttmp = b + x1*w1 + x2*w2\n",
    "\tif tmp <= 0:\n",
    "\t\treturn 0\n",
    "\telse:\n",
    "\t\treturn 1"
   ]
  },
  {
   "cell_type": "code",
   "execution_count": 3,
   "metadata": {},
   "outputs": [
    {
     "name": "stdout",
     "output_type": "stream",
     "text": [
      "AND(0,0)->0\n",
      "AND(0,1)->0\n",
      "AND(1,0)->0\n",
      "AND(1,1)->1\n"
     ]
    }
   ],
   "source": [
    "xx = [(0, 0), (0, 1), (1, 0), (1, 1)]\n",
    "for x in xx:\n",
    "\tresult = AND(x[0], x[1])\n",
    "\tprint(f'AND({x[0]},{x[1]})->{result}')"
   ]
  },
  {
   "cell_type": "code",
   "execution_count": 4,
   "metadata": {},
   "outputs": [],
   "source": [
    "import numpy as np"
   ]
  },
  {
   "cell_type": "code",
   "execution_count": 5,
   "metadata": {},
   "outputs": [],
   "source": [
    "def AND(x1, x2):\n",
    "\tx = np.array([[1], [x1], [x2]])\n",
    "\tw = np.array([[-0.7], [0.5], [0.5]])\n",
    "\ttmp = np.dot(x.T, w)\n",
    "\tif tmp <= 0:\n",
    "\t\treturn 0\n",
    "\telse:\n",
    "\t\treturn 1"
   ]
  },
  {
   "cell_type": "code",
   "execution_count": 6,
   "metadata": {},
   "outputs": [
    {
     "name": "stdout",
     "output_type": "stream",
     "text": [
      "AND(0,0)->0\n",
      "AND(0,1)->0\n",
      "AND(1,0)->0\n",
      "AND(1,1)->1\n"
     ]
    }
   ],
   "source": [
    "xx = [(0, 0), (0, 1), (1, 0), (1, 1)]\n",
    "for x in xx:\n",
    "\tresult = AND(x[0], x[1])\n",
    "\tprint(f'AND({x[0]},{x[1]})->{result}')"
   ]
  },
  {
   "cell_type": "markdown",
   "metadata": {},
   "source": [
    "### NAND gate"
   ]
  },
  {
   "cell_type": "code",
   "execution_count": 7,
   "metadata": {},
   "outputs": [],
   "source": [
    "def NAND(x1, x2):\n",
    "\tx = np.array([[1], [x1], [x2]])\n",
    "\tw = np.array([[0.7], [-0.5], [-0.5]])\n",
    "\ttmp = np.dot(x.T, w)\n",
    "\tif tmp <= 0:\n",
    "\t\treturn 0\n",
    "\telse:\n",
    "\t\treturn 1"
   ]
  },
  {
   "cell_type": "code",
   "execution_count": 8,
   "metadata": {},
   "outputs": [
    {
     "name": "stdout",
     "output_type": "stream",
     "text": [
      "NAND(0,0)->1\n",
      "NAND(0,1)->1\n",
      "NAND(1,0)->1\n",
      "NAND(1,1)->0\n"
     ]
    }
   ],
   "source": [
    "xx = [(0, 0), (0, 1), (1, 0), (1, 1)]\n",
    "for x in xx:\n",
    "\tresult = NAND(x[0], x[1])\n",
    "\tprint(f'NAND({x[0]},{x[1]})->{result}')"
   ]
  },
  {
   "cell_type": "markdown",
   "metadata": {},
   "source": [
    "### OR gate"
   ]
  },
  {
   "cell_type": "code",
   "execution_count": 9,
   "metadata": {},
   "outputs": [],
   "source": [
    "def OR(x1, x2):\n",
    "\tx = np.array([[1], [x1], [x2]])\n",
    "\tw = np.array([[-0.4], [0.5], [0.5]])\n",
    "\ttmp = np.dot(x.T, w)\n",
    "\tif tmp <= 0:\n",
    "\t\treturn 0\n",
    "\telse:\n",
    "\t\treturn 1"
   ]
  },
  {
   "cell_type": "code",
   "execution_count": 10,
   "metadata": {},
   "outputs": [
    {
     "name": "stdout",
     "output_type": "stream",
     "text": [
      "OR(0,0)->0\n",
      "OR(0,1)->1\n",
      "OR(1,0)->1\n",
      "OR(1,1)->1\n"
     ]
    }
   ],
   "source": [
    "xx = [(0, 0), (0, 1), (1, 0), (1, 1)]\n",
    "for x in xx:\n",
    "\tresult = OR(x[0], x[1])\n",
    "\tprint(f'OR({x[0]},{x[1]})->{result}')"
   ]
  },
  {
   "cell_type": "markdown",
   "metadata": {},
   "source": [
    "### XOR gate"
   ]
  },
  {
   "cell_type": "code",
   "execution_count": 18,
   "metadata": {},
   "outputs": [],
   "source": [
    "def XOR(x1, x2):\n",
    "\n",
    "\tdef AND(x1, x2):\n",
    "\t\tx = np.array([[1], [x1], [x2]])\n",
    "\t\tw = np.array([[-0.7], [0.5], [0.5]])\n",
    "\t\ttmp = np.dot(x.T, w)\n",
    "\t\tif tmp <= 0:\n",
    "\t\t\treturn 0\n",
    "\t\telse:\n",
    "\t\t\treturn 1\n",
    "\n",
    "\tdef NAND(x1, x2):\n",
    "\t\tx = np.array([[1], [x1], [x2]])\n",
    "\t\tw = np.array([[0.7], [-0.5], [-0.5]])\n",
    "\t\ttmp = np.dot(x.T, w)\n",
    "\t\tif tmp <= 0:\n",
    "\t\t\treturn 0\n",
    "\t\telse:\n",
    "\t\t\treturn 1\n",
    "\n",
    "\tdef OR(x1, x2):\n",
    "\t\tx = np.array([[1], [x1], [x2]])\n",
    "\t\tw = np.array([[-0.4], [0.5], [0.5]])\n",
    "\t\ttmp = np.dot(x.T, w)\n",
    "\t\tif tmp <= 0:\n",
    "\t\t\treturn 0\n",
    "\t\telse:\n",
    "\t\t\treturn 1\n",
    "\n",
    "\ts1, s2 = NAND(x1, x2), OR(x1, x2)\n",
    "\treturn AND(s1, s2)\n"
   ]
  },
  {
   "cell_type": "code",
   "execution_count": 19,
   "metadata": {},
   "outputs": [
    {
     "name": "stdout",
     "output_type": "stream",
     "text": [
      "XOR(0,0)->0\n",
      "XOR(0,1)->1\n",
      "XOR(1,0)->1\n",
      "XOR(1,1)->0\n"
     ]
    }
   ],
   "source": [
    "xx = [(0, 0), (0, 1), (1, 0), (1, 1)]\n",
    "for x in xx:\n",
    "\tresult = XOR(x[0], x[1])\n",
    "\tprint(f'XOR({x[0]},{x[1]})->{result}')"
   ]
  },
  {
   "cell_type": "code",
   "execution_count": null,
   "metadata": {},
   "outputs": [],
   "source": []
  }
 ],
 "metadata": {
  "kernelspec": {
   "display_name": "python_ml",
   "language": "python",
   "name": "python3"
  },
  "language_info": {
   "codemirror_mode": {
    "name": "ipython",
    "version": 3
   },
   "file_extension": ".py",
   "mimetype": "text/x-python",
   "name": "python",
   "nbconvert_exporter": "python",
   "pygments_lexer": "ipython3",
   "version": "3.9.19"
  }
 },
 "nbformat": 4,
 "nbformat_minor": 2
}
